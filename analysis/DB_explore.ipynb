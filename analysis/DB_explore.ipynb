{
 "cells": [
  {
   "cell_type": "markdown",
   "metadata": {},
   "source": [
    "# Exploring the Scraped Cookie database\n",
    "\n",
    "**Now running on Python3**"
   ]
  },
  {
   "cell_type": "code",
   "execution_count": 1,
   "metadata": {
    "collapsed": false
   },
   "outputs": [],
   "source": [
    "import pandas as pd\n",
    "import sqlite3\n",
    "import matplotlib.pyplot as plt\n",
    "%matplotlib inline"
   ]
  },
  {
   "cell_type": "markdown",
   "metadata": {},
   "source": [
    "### Table of Contents\n",
    "  \n",
    "* [**Table Information**](#Get-table-information)  \n",
    "* [**Table headers**](#Individual-table-dumps)\n",
    "  * [Profile Cookies](#Profile-Cookies)  \n",
    "  * [Local Storage](#Local-Storage)  \n",
    "  * [Crawl History](#Crawl-History)\n",
    "* [Data Exploration](#Further-Exploration)\n",
    "  * [Failed Crawls](#Failed-crawl-history)\n",
    "  * [Popular Domains](#Most-popular-base-domains)\n",
    "  * [Popular Scopes](#Most-popular-scopes)\n",
    "  * [Popular cookie names](#Most-popular-cookies)\n",
    "  * [Cookies by Host](#Counting-cookies-by-host)\n",
    "  * [Cookies by URL](#Counting-cookies-by-page_url)\n"
   ]
  },
  {
   "cell_type": "markdown",
   "metadata": {},
   "source": [
    "## Get table information"
   ]
  },
  {
   "cell_type": "code",
   "execution_count": 2,
   "metadata": {
    "collapsed": true
   },
   "outputs": [],
   "source": [
    "# Connect to SQLite database\n",
    "con = sqlite3.connect(\"../data/top_100_shallow_1.sqlite\")\n",
    "\n",
    "cur = con.cursor()"
   ]
  },
  {
   "cell_type": "code",
   "execution_count": 22,
   "metadata": {
    "collapsed": false
   },
   "outputs": [
    {
     "data": {
      "text/plain": [
       "['task',\n",
       " 'sqlite_sequence',\n",
       " 'crawl',\n",
       " 'xpath',\n",
       " 'http_requests',\n",
       " 'http_responses',\n",
       " 'flash_cookies',\n",
       " 'profile_cookies',\n",
       " 'localStorage',\n",
       " 'CrawlHistory',\n",
       " 'http_cookies']"
      ]
     },
     "execution_count": 22,
     "metadata": {},
     "output_type": "execute_result"
    }
   ],
   "source": [
    "# Get tables in database\n",
    "cur.execute(\"SELECT name FROM sqlite_master WHERE type = 'table';\")\n",
    "\n",
    "table_names = [ x[0] for x in cur.fetchall() ]\n",
    "table_names"
   ]
  },
  {
   "cell_type": "code",
   "execution_count": 23,
   "metadata": {
    "collapsed": true
   },
   "outputs": [],
   "source": [
    "# Initialize dictionary with information for each table\n",
    "db_info = {}"
   ]
  },
  {
   "cell_type": "code",
   "execution_count": 24,
   "metadata": {
    "collapsed": false
   },
   "outputs": [],
   "source": [
    "# Get counts\n",
    "count_query = \"SELECT COUNT(*) FROM {table};\"\n",
    "cols_query = \"PRAGMA table_info('{table}');\"\n",
    "\n",
    "for t in table_names:\n",
    "    # get counts\n",
    "    cur.execute( count_query.format(table=t) )\n",
    "    _cnt = int( cur.fetchall()[0][0] )\n",
    "    \n",
    "    # get cols\n",
    "    cur.execute( cols_query.format(table=t) )\n",
    "    _cols = [ c[1].encode() for c in cur.fetchall() ]\n",
    "    \n",
    "    db_info[t] = {'count': _cnt, 'cols': _cols}"
   ]
  },
  {
   "cell_type": "code",
   "execution_count": 26,
   "metadata": {
    "collapsed": false,
    "scrolled": true
   },
   "outputs": [
    {
     "name": "stdout",
     "output_type": "stream",
     "text": [
      "CrawlHistory\n",
      " ============\n",
      " COUNT:  200\n",
      " COLS:  [b'crawl_id', b'command', b'arguments', b'bool_success', b'dtg'] \n",
      "\n",
      "localStorage\n",
      " ============\n",
      " COUNT:  909\n",
      " COLS:  [b'id', b'crawl_id', b'page_url', b'scope', b'KEY', b'value'] \n",
      "\n",
      "sqlite_sequence\n",
      " ===============\n",
      " COUNT:  7\n",
      " COLS:  [b'name', b'seq'] \n",
      "\n",
      "profile_cookies\n",
      " ===============\n",
      " COUNT:  6322\n",
      " COLS:  [b'id', b'crawl_id', b'page_url', b'baseDomain', b'name', b'value', b'host', b'path', b'expiry', b'accessed', b'creationTime', b'isSecure', b'isHttpOnly'] \n",
      "\n",
      "task\n",
      " ====\n",
      " COUNT:  1\n",
      " COLS:  [b'task_id', b'start_time', b'description'] \n",
      "\n",
      "http_responses\n",
      " ==============\n",
      " COUNT:  16278\n",
      " COLS:  [b'id', b'crawl_id', b'url', b'method', b'referrer', b'response_status', b'response_status_text', b'headers', b'location', b'top_url', b'time_stamp'] \n",
      "\n",
      "flash_cookies\n",
      " =============\n",
      " COUNT:  5\n",
      " COLS:  [b'id', b'crawl_id', b'page_url', b'domain', b'filename', b'local_path', b'key', b'content'] \n",
      "\n",
      "xpath\n",
      " =====\n",
      " COUNT:  0\n",
      " COLS:  [b'id', b'name', b'url', b'xpath', b'absolute_xpath', b'ctime'] \n",
      "\n",
      "http_cookies\n",
      " ============\n",
      " COUNT:  0\n",
      " COLS:  [b'id', b'crawl_id', b'header_id', b'http_type', b'name', b'value', b'domain', b'path', b'expires', b'max_age', b'httponly', b'secure', b'comment', b'version', b'accessed'] \n",
      "\n",
      "crawl\n",
      " =====\n",
      " COUNT:  1\n",
      " COLS:  [b'crawl_id', b'task_id', b'start_time', b'profile', b'browser', b'headless', b'proxy', b'debugging', b'disable_flash', b'extensions', b'screen_res', b'ua_string', b'finished'] \n",
      "\n",
      "http_requests\n",
      " =============\n",
      " COUNT:  16297\n",
      " COLS:  [b'id', b'crawl_id', b'url', b'method', b'referrer', b'headers', b'top_url', b'time_stamp'] \n",
      "\n"
     ]
    }
   ],
   "source": [
    "for t, info in db_info.items():\n",
    "    print('{tab}\\n'.format(tab=t), '=' * len(t))\n",
    "    print(' COUNT: ', info['count'])\n",
    "    print(' COLS: ', info['cols'], '\\n')"
   ]
  },
  {
   "cell_type": "code",
   "execution_count": 6,
   "metadata": {
    "collapsed": false,
    "scrolled": true
   },
   "outputs": [
    {
     "name": "stdout",
     "output_type": "stream",
     "text": [
      "CREATE TABLE task (\n",
      "    task_id INTEGER PRIMARY KEY AUTOINCREMENT,\n",
      "    start_time DATETIME DEFAULT CURRENT_TIMESTAMP,\n",
      "    description TEXT)\n",
      "\n",
      "CREATE TABLE sqlite_sequence(name,seq)\n",
      "\n",
      "CREATE TABLE crawl (\n",
      "    crawl_id INTEGER PRIMARY KEY AUTOINCREMENT,\n",
      "    task_id INTEGER,\n",
      "    start_time DATETIME DEFAULT CURRENT_TIMESTAMP,\n",
      "    profile VARCHAR(200),\n",
      "    browser VARCHAR(200),\n",
      "    headless VARCHAR(200),\n",
      "    proxy VARCHAR(200),\n",
      "    debugging VARCHAR(200),\n",
      "    disable_flash VARCHAR(200),\n",
      "    extensions VARCHAR(200),\n",
      "    screen_res VARCHAR(50),\n",
      "    ua_string VARCHAR(200),\n",
      "    finished BOOLEAN NOT NULL DEFAULT 0,\n",
      "    FOREIGN KEY(task_id) REFERENCES task(task_id))\n",
      "\n",
      "CREATE TABLE xpath (\n",
      "    id INTEGER PRIMARY KEY AUTOINCREMENT,\n",
      "    name VARCHAR(100) NOT NULL,\n",
      "    url VARCHAR(500) NOT NULL,\n",
      "    xpath VARCHAR(500) NOT NULL,\n",
      "    absolute_xpath VARCHAR(500),\n",
      "    ctime DATETIME DEFAULT CURRENT_TIMESTAMP,\n",
      "    UNIQUE(name, url))\n",
      "\n",
      "CREATE TABLE http_requests (\n",
      "    id INTEGER PRIMARY KEY AUTOINCREMENT,\n",
      "    crawl_id INTEGER NOT NULL,\n",
      "    url VARCHAR(500) NOT NULL,\n",
      "    method VARCHAR(500) NOT NULL,\n",
      "    referrer VARCHAR(500) NOT NULL,\n",
      "    headers VARCHAR(500) NOT NULL,\n",
      "    top_url VARCHAR(500) NOT NULL,\n",
      "    time_stamp VARCHAR(500) NOT NULL)\n",
      "\n",
      "CREATE TABLE http_responses (\n",
      "    id INTEGER PRIMARY KEY AUTOINCREMENT,\n",
      "    crawl_id INTEGER NOT NULL,\n",
      "    url VARCHAR(500) NOT NULL,\n",
      "    method VARCHAR(500) NOT NULL,\n",
      "    referrer VARCHAR(500) NOT NULL,\n",
      "    response_status INTEGER NOT NULL,\n",
      "    response_status_text VARCHAR(500) NOT NULL,\n",
      "    headers VARCHAR(500) NOT NULL,\n",
      "    location VARCHAR(500) NOT NULL,\n",
      "    top_url VARCHAR(500) NOT NULL,\n",
      "    time_stamp VARCHAR(500) NOT NULL)\n",
      "\n",
      "CREATE TABLE flash_cookies (\n",
      "    id INTEGER PRIMARY KEY AUTOINCREMENT,\n",
      "    crawl_id INTEGER NOT NULL,\n",
      "    page_url VARCHAR(500) NOT NULL,\n",
      "    domain VARCHAR(500),\n",
      "    filename VARCHAR(500),\n",
      "    local_path VARCHAR(1000),\n",
      "    key TEXT,\n",
      "    content TEXT,\n",
      "    FOREIGN KEY(crawl_id) REFERENCES crawl(id))\n",
      "\n",
      "CREATE TABLE profile_cookies (\n",
      "    id INTEGER PRIMARY KEY AUTOINCREMENT,\n",
      "    crawl_id INTEGER NOT NULL,\n",
      "    page_url VARCHAR(500) NOT NULL,\n",
      "    baseDomain TEXT,\n",
      "    name TEXT,\n",
      "    value TEXT,\n",
      "    host TEXT,\n",
      "    path TEXT,\n",
      "    expiry INTEGER,\n",
      "    accessed INTEGER,\n",
      "    creationTime INTEGER,\n",
      "    isSecure INTEGER,\n",
      "    isHttpOnly INTEGER,\n",
      "    FOREIGN KEY(crawl_id) REFERENCES crawl(id))\n",
      "\n",
      "CREATE TABLE localStorage (\n",
      "    id INTEGER PRIMARY KEY AUTOINCREMENT,\n",
      "    crawl_id INTEGER NOT NULL,\n",
      "    page_url VARCHAR(500) NOT NULL,\n",
      "    scope TEXT,\n",
      "    KEY TEXT,\n",
      "    value TEXT,\n",
      "    FOREIGN KEY(crawl_id) REFERENCES crawl(id))\n",
      "\n",
      "CREATE TABLE CrawlHistory (\n",
      "    crawl_id INTEGER,\n",
      "    command TEXT,\n",
      "    arguments TEXT,\n",
      "    bool_success INTEGER,\n",
      "    dtg DATETIME DEFAULT (CURRENT_TIMESTAMP),\n",
      "    FOREIGN KEY(crawl_id) REFERENCES crawl(id))\n",
      "\n",
      "CREATE TABLE http_cookies (                     id INTEGER PRIMARY KEY AUTOINCREMENT,                     crawl_id INTEGER NOT NULL,                     header_id INTEGER NOT NULL,                     http_type VARCHAR(10) NOT NULL,                     name VARCHAR(200) NOT NULL,                     value TEXT NOT NULL,                     domain VARCHAR(500),                     path VARCHAR(500),                     expires DATETIME,                     max_age REAL,                     httponly BOOLEAN,                     secure BOOLEAN,                     comment VARCHAR(200),                     version VARCHAR(100),                     accessed DATETIME)\n",
      "\n"
     ]
    }
   ],
   "source": [
    "# Get FULL table schema in database\n",
    "cur.execute(\"SELECT sql FROM sqlite_master WHERE type = 'table';\")\n",
    "\n",
    "all_tables = cur.fetchall()\n",
    "\n",
    "for t in all_tables:\n",
    "    print t[0] + '\\n'"
   ]
  },
  {
   "cell_type": "markdown",
   "metadata": {},
   "source": [
    "## Individual table dumps"
   ]
  },
  {
   "cell_type": "code",
   "execution_count": 7,
   "metadata": {
    "collapsed": true
   },
   "outputs": [],
   "source": [
    "get_head_query = \"SELECT * FROM {table} LIMIT {cnt};\""
   ]
  },
  {
   "cell_type": "markdown",
   "metadata": {},
   "source": [
    "* ### Task"
   ]
  },
  {
   "cell_type": "code",
   "execution_count": 8,
   "metadata": {
    "collapsed": false
   },
   "outputs": [
    {
     "data": {
      "text/html": [
       "<div>\n",
       "<table border=\"1\" class=\"dataframe\">\n",
       "  <thead>\n",
       "    <tr style=\"text-align: right;\">\n",
       "      <th></th>\n",
       "      <th>task_id</th>\n",
       "      <th>start_time</th>\n",
       "      <th>description</th>\n",
       "    </tr>\n",
       "  </thead>\n",
       "  <tbody>\n",
       "    <tr>\n",
       "      <th>0</th>\n",
       "      <td>1</td>\n",
       "      <td>2015-07-14 20:38:37</td>\n",
       "      <td>None</td>\n",
       "    </tr>\n",
       "  </tbody>\n",
       "</table>\n",
       "</div>"
      ],
      "text/plain": [
       "   task_id           start_time description\n",
       "0        1  2015-07-14 20:38:37        None"
      ]
     },
     "execution_count": 8,
     "metadata": {},
     "output_type": "execute_result"
    }
   ],
   "source": [
    "# Dump TASK table\n",
    "pd.read_sql_query(get_head_query.format(table='task',cnt=7), con)"
   ]
  },
  {
   "cell_type": "markdown",
   "metadata": {},
   "source": [
    "* ### Profile Cookies"
   ]
  },
  {
   "cell_type": "code",
   "execution_count": 9,
   "metadata": {
    "collapsed": false
   },
   "outputs": [
    {
     "data": {
      "text/html": [
       "<div>\n",
       "<table border=\"1\" class=\"dataframe\">\n",
       "  <thead>\n",
       "    <tr style=\"text-align: right;\">\n",
       "      <th></th>\n",
       "      <th>id</th>\n",
       "      <th>crawl_id</th>\n",
       "      <th>page_url</th>\n",
       "      <th>baseDomain</th>\n",
       "      <th>name</th>\n",
       "      <th>value</th>\n",
       "      <th>host</th>\n",
       "      <th>path</th>\n",
       "      <th>expiry</th>\n",
       "      <th>accessed</th>\n",
       "      <th>creationTime</th>\n",
       "      <th>isSecure</th>\n",
       "      <th>isHttpOnly</th>\n",
       "    </tr>\n",
       "  </thead>\n",
       "  <tbody>\n",
       "    <tr>\n",
       "      <th>0</th>\n",
       "      <td>1</td>\n",
       "      <td>1</td>\n",
       "      <td>http://google.com</td>\n",
       "      <td>google.com</td>\n",
       "      <td>PREF</td>\n",
       "      <td>ID=1111111111111111:FF=0:TM=1436906302:LM=1436...</td>\n",
       "      <td>.google.com</td>\n",
       "      <td>/</td>\n",
       "      <td>1499978320</td>\n",
       "      <td>1436906320429022</td>\n",
       "      <td>1436906320429022</td>\n",
       "      <td>0</td>\n",
       "      <td>0</td>\n",
       "    </tr>\n",
       "    <tr>\n",
       "      <th>1</th>\n",
       "      <td>2</td>\n",
       "      <td>1</td>\n",
       "      <td>http://google.com</td>\n",
       "      <td>google.com</td>\n",
       "      <td>NID</td>\n",
       "      <td>69=QjonilIW3NrJTI3h12fdRQ3Gdy2g6DifOxZwlZS9X_v...</td>\n",
       "      <td>.google.com</td>\n",
       "      <td>/</td>\n",
       "      <td>1452717520</td>\n",
       "      <td>1436906320704467</td>\n",
       "      <td>1436906320429855</td>\n",
       "      <td>0</td>\n",
       "      <td>1</td>\n",
       "    </tr>\n",
       "    <tr>\n",
       "      <th>2</th>\n",
       "      <td>3</td>\n",
       "      <td>1</td>\n",
       "      <td>http://google.com</td>\n",
       "      <td>google.com</td>\n",
       "      <td>OGPC</td>\n",
       "      <td>5061451-1:</td>\n",
       "      <td>.google.com</td>\n",
       "      <td>/</td>\n",
       "      <td>1439498321</td>\n",
       "      <td>1436906321416369</td>\n",
       "      <td>1436906321416369</td>\n",
       "      <td>0</td>\n",
       "      <td>0</td>\n",
       "    </tr>\n",
       "    <tr>\n",
       "      <th>3</th>\n",
       "      <td>4</td>\n",
       "      <td>1</td>\n",
       "      <td>http://youtube.com</td>\n",
       "      <td>youtube.com</td>\n",
       "      <td>VISITOR_INFO1_LIVE</td>\n",
       "      <td>t4rCUKtDEzQ</td>\n",
       "      <td>.youtube.com</td>\n",
       "      <td>/</td>\n",
       "      <td>1457944310</td>\n",
       "      <td>1436906330561222</td>\n",
       "      <td>1436906330561222</td>\n",
       "      <td>0</td>\n",
       "      <td>1</td>\n",
       "    </tr>\n",
       "    <tr>\n",
       "      <th>4</th>\n",
       "      <td>5</td>\n",
       "      <td>1</td>\n",
       "      <td>http://youtube.com</td>\n",
       "      <td>youtube.com</td>\n",
       "      <td>PREF</td>\n",
       "      <td>f5=30</td>\n",
       "      <td>.youtube.com</td>\n",
       "      <td>/</td>\n",
       "      <td>1499978333</td>\n",
       "      <td>1436906333416922</td>\n",
       "      <td>1436906333416922</td>\n",
       "      <td>0</td>\n",
       "      <td>0</td>\n",
       "    </tr>\n",
       "    <tr>\n",
       "      <th>5</th>\n",
       "      <td>6</td>\n",
       "      <td>1</td>\n",
       "      <td>http://youtube.com</td>\n",
       "      <td>doubleclick.net</td>\n",
       "      <td>id</td>\n",
       "      <td>22050e441c0400cc||t=1436906316|et=730|cs=00221...</td>\n",
       "      <td>.doubleclick.net</td>\n",
       "      <td>/</td>\n",
       "      <td>1499978334</td>\n",
       "      <td>1436906334258111</td>\n",
       "      <td>1436906334258111</td>\n",
       "      <td>0</td>\n",
       "      <td>0</td>\n",
       "    </tr>\n",
       "    <tr>\n",
       "      <th>6</th>\n",
       "      <td>7</td>\n",
       "      <td>1</td>\n",
       "      <td>http://youtube.com</td>\n",
       "      <td>pointroll.com</td>\n",
       "      <td>PRTEST</td>\n",
       "      <td>1</td>\n",
       "      <td>.ads.pointroll.com</td>\n",
       "      <td>/</td>\n",
       "      <td>1499978334</td>\n",
       "      <td>1436906334341091</td>\n",
       "      <td>1436906334341091</td>\n",
       "      <td>0</td>\n",
       "      <td>0</td>\n",
       "    </tr>\n",
       "  </tbody>\n",
       "</table>\n",
       "</div>"
      ],
      "text/plain": [
       "   id  crawl_id            page_url       baseDomain                name  \\\n",
       "0   1         1   http://google.com       google.com                PREF   \n",
       "1   2         1   http://google.com       google.com                 NID   \n",
       "2   3         1   http://google.com       google.com                OGPC   \n",
       "3   4         1  http://youtube.com      youtube.com  VISITOR_INFO1_LIVE   \n",
       "4   5         1  http://youtube.com      youtube.com                PREF   \n",
       "5   6         1  http://youtube.com  doubleclick.net                  id   \n",
       "6   7         1  http://youtube.com    pointroll.com              PRTEST   \n",
       "\n",
       "                                               value                host path  \\\n",
       "0  ID=1111111111111111:FF=0:TM=1436906302:LM=1436...         .google.com    /   \n",
       "1  69=QjonilIW3NrJTI3h12fdRQ3Gdy2g6DifOxZwlZS9X_v...         .google.com    /   \n",
       "2                                         5061451-1:         .google.com    /   \n",
       "3                                        t4rCUKtDEzQ        .youtube.com    /   \n",
       "4                                              f5=30        .youtube.com    /   \n",
       "5  22050e441c0400cc||t=1436906316|et=730|cs=00221...    .doubleclick.net    /   \n",
       "6                                                  1  .ads.pointroll.com    /   \n",
       "\n",
       "       expiry          accessed      creationTime  isSecure  isHttpOnly  \n",
       "0  1499978320  1436906320429022  1436906320429022         0           0  \n",
       "1  1452717520  1436906320704467  1436906320429855         0           1  \n",
       "2  1439498321  1436906321416369  1436906321416369         0           0  \n",
       "3  1457944310  1436906330561222  1436906330561222         0           1  \n",
       "4  1499978333  1436906333416922  1436906333416922         0           0  \n",
       "5  1499978334  1436906334258111  1436906334258111         0           0  \n",
       "6  1499978334  1436906334341091  1436906334341091         0           0  "
      ]
     },
     "execution_count": 9,
     "metadata": {},
     "output_type": "execute_result"
    }
   ],
   "source": [
    "# Dump PROFILE_COOKIES table\n",
    "pd.read_sql_query(get_head_query.format(table='profile_cookies',cnt=7), con)"
   ]
  },
  {
   "cell_type": "markdown",
   "metadata": {},
   "source": [
    "* ### HTTP Responses"
   ]
  },
  {
   "cell_type": "code",
   "execution_count": 10,
   "metadata": {
    "collapsed": false
   },
   "outputs": [
    {
     "data": {
      "text/html": [
       "<div>\n",
       "<table border=\"1\" class=\"dataframe\">\n",
       "  <thead>\n",
       "    <tr style=\"text-align: right;\">\n",
       "      <th></th>\n",
       "      <th>id</th>\n",
       "      <th>crawl_id</th>\n",
       "      <th>url</th>\n",
       "      <th>method</th>\n",
       "      <th>referrer</th>\n",
       "      <th>response_status</th>\n",
       "      <th>response_status_text</th>\n",
       "      <th>headers</th>\n",
       "      <th>location</th>\n",
       "      <th>top_url</th>\n",
       "      <th>time_stamp</th>\n",
       "    </tr>\n",
       "  </thead>\n",
       "  <tbody>\n",
       "    <tr>\n",
       "      <th>0</th>\n",
       "      <td>1</td>\n",
       "      <td>1</td>\n",
       "      <td>http://google.com/</td>\n",
       "      <td>GET</td>\n",
       "      <td></td>\n",
       "      <td>301</td>\n",
       "      <td>Moved Permanently</td>\n",
       "      <td>[['Location', 'http://www.google.com/'], ['Con...</td>\n",
       "      <td>http://www.google.com/</td>\n",
       "      <td>http://google.com</td>\n",
       "      <td>2015-07-14 20:38:40.386276</td>\n",
       "    </tr>\n",
       "    <tr>\n",
       "      <th>1</th>\n",
       "      <td>2</td>\n",
       "      <td>1</td>\n",
       "      <td>http://www.google.com/</td>\n",
       "      <td>GET</td>\n",
       "      <td></td>\n",
       "      <td>302</td>\n",
       "      <td>Found</td>\n",
       "      <td>[['Location', 'https://www.google.com/?gws_rd=...</td>\n",
       "      <td>https://www.google.com/?gws_rd=ssl</td>\n",
       "      <td>http://google.com</td>\n",
       "      <td>2015-07-14 20:38:40.428456</td>\n",
       "    </tr>\n",
       "    <tr>\n",
       "      <th>2</th>\n",
       "      <td>3</td>\n",
       "      <td>1</td>\n",
       "      <td>https://www.google.com/?gws_rd=ssl</td>\n",
       "      <td>GET</td>\n",
       "      <td></td>\n",
       "      <td>200</td>\n",
       "      <td>OK</td>\n",
       "      <td>[['Date', 'Tue, 14 Jul 2015 20:38:22 GMT'], ['...</td>\n",
       "      <td></td>\n",
       "      <td>http://google.com</td>\n",
       "      <td>2015-07-14 20:38:40.702652</td>\n",
       "    </tr>\n",
       "    <tr>\n",
       "      <th>3</th>\n",
       "      <td>4</td>\n",
       "      <td>1</td>\n",
       "      <td>https://www.google.com/logos/doodles/2015/new-...</td>\n",
       "      <td>GET</td>\n",
       "      <td>https://www.google.com/?gws_rd=ssl</td>\n",
       "      <td>200</td>\n",
       "      <td>OK</td>\n",
       "      <td>[['Content-Type', 'image/png'], ['Last-Modifie...</td>\n",
       "      <td></td>\n",
       "      <td>http://google.com</td>\n",
       "      <td>2015-07-14 20:38:40.853772</td>\n",
       "    </tr>\n",
       "  </tbody>\n",
       "</table>\n",
       "</div>"
      ],
      "text/plain": [
       "   id  crawl_id                                                url method  \\\n",
       "0   1         1                                 http://google.com/    GET   \n",
       "1   2         1                             http://www.google.com/    GET   \n",
       "2   3         1                 https://www.google.com/?gws_rd=ssl    GET   \n",
       "3   4         1  https://www.google.com/logos/doodles/2015/new-...    GET   \n",
       "\n",
       "                             referrer  response_status response_status_text  \\\n",
       "0                                                  301    Moved Permanently   \n",
       "1                                                  302                Found   \n",
       "2                                                  200                   OK   \n",
       "3  https://www.google.com/?gws_rd=ssl              200                   OK   \n",
       "\n",
       "                                             headers  \\\n",
       "0  [['Location', 'http://www.google.com/'], ['Con...   \n",
       "1  [['Location', 'https://www.google.com/?gws_rd=...   \n",
       "2  [['Date', 'Tue, 14 Jul 2015 20:38:22 GMT'], ['...   \n",
       "3  [['Content-Type', 'image/png'], ['Last-Modifie...   \n",
       "\n",
       "                             location            top_url  \\\n",
       "0              http://www.google.com/  http://google.com   \n",
       "1  https://www.google.com/?gws_rd=ssl  http://google.com   \n",
       "2                                      http://google.com   \n",
       "3                                      http://google.com   \n",
       "\n",
       "                   time_stamp  \n",
       "0  2015-07-14 20:38:40.386276  \n",
       "1  2015-07-14 20:38:40.428456  \n",
       "2  2015-07-14 20:38:40.702652  \n",
       "3  2015-07-14 20:38:40.853772  "
      ]
     },
     "execution_count": 10,
     "metadata": {},
     "output_type": "execute_result"
    }
   ],
   "source": [
    "# Dump HTTP_RESPONSES table\n",
    "pd.read_sql_query(get_head_query.format(table='http_responses',cnt=4), con)"
   ]
  },
  {
   "cell_type": "markdown",
   "metadata": {},
   "source": [
    "* ### SQLite Sequence"
   ]
  },
  {
   "cell_type": "code",
   "execution_count": 11,
   "metadata": {
    "collapsed": false
   },
   "outputs": [
    {
     "data": {
      "text/html": [
       "<div>\n",
       "<table border=\"1\" class=\"dataframe\">\n",
       "  <thead>\n",
       "    <tr style=\"text-align: right;\">\n",
       "      <th></th>\n",
       "      <th>name</th>\n",
       "      <th>seq</th>\n",
       "    </tr>\n",
       "  </thead>\n",
       "  <tbody>\n",
       "    <tr>\n",
       "      <th>0</th>\n",
       "      <td>task</td>\n",
       "      <td>1</td>\n",
       "    </tr>\n",
       "    <tr>\n",
       "      <th>1</th>\n",
       "      <td>crawl</td>\n",
       "      <td>1</td>\n",
       "    </tr>\n",
       "    <tr>\n",
       "      <th>2</th>\n",
       "      <td>http_requests</td>\n",
       "      <td>16297</td>\n",
       "    </tr>\n",
       "    <tr>\n",
       "      <th>3</th>\n",
       "      <td>http_responses</td>\n",
       "      <td>16278</td>\n",
       "    </tr>\n",
       "    <tr>\n",
       "      <th>4</th>\n",
       "      <td>profile_cookies</td>\n",
       "      <td>6322</td>\n",
       "    </tr>\n",
       "    <tr>\n",
       "      <th>5</th>\n",
       "      <td>flash_cookies</td>\n",
       "      <td>5</td>\n",
       "    </tr>\n",
       "    <tr>\n",
       "      <th>6</th>\n",
       "      <td>localStorage</td>\n",
       "      <td>909</td>\n",
       "    </tr>\n",
       "  </tbody>\n",
       "</table>\n",
       "</div>"
      ],
      "text/plain": [
       "              name    seq\n",
       "0             task      1\n",
       "1            crawl      1\n",
       "2    http_requests  16297\n",
       "3   http_responses  16278\n",
       "4  profile_cookies   6322\n",
       "5    flash_cookies      5\n",
       "6     localStorage    909"
      ]
     },
     "execution_count": 11,
     "metadata": {},
     "output_type": "execute_result"
    }
   ],
   "source": [
    "# Dump SQLITE_SEQUENCE table\n",
    "pd.read_sql_query(get_head_query.format(table='sqlite_sequence',cnt=10), con)"
   ]
  },
  {
   "cell_type": "markdown",
   "metadata": {},
   "source": [
    "* ### HTTP Requests"
   ]
  },
  {
   "cell_type": "code",
   "execution_count": 12,
   "metadata": {
    "collapsed": false
   },
   "outputs": [
    {
     "data": {
      "text/html": [
       "<div>\n",
       "<table border=\"1\" class=\"dataframe\">\n",
       "  <thead>\n",
       "    <tr style=\"text-align: right;\">\n",
       "      <th></th>\n",
       "      <th>id</th>\n",
       "      <th>crawl_id</th>\n",
       "      <th>url</th>\n",
       "      <th>method</th>\n",
       "      <th>referrer</th>\n",
       "      <th>headers</th>\n",
       "      <th>top_url</th>\n",
       "      <th>time_stamp</th>\n",
       "    </tr>\n",
       "  </thead>\n",
       "  <tbody>\n",
       "    <tr>\n",
       "      <th>0</th>\n",
       "      <td>1</td>\n",
       "      <td>1</td>\n",
       "      <td>http://google.com/</td>\n",
       "      <td>GET</td>\n",
       "      <td></td>\n",
       "      <td>[['Host', 'google.com'], ['User-Agent', 'Mozil...</td>\n",
       "      <td>http://google.com</td>\n",
       "      <td>2015-07-14 20:38:40.342442</td>\n",
       "    </tr>\n",
       "    <tr>\n",
       "      <th>1</th>\n",
       "      <td>2</td>\n",
       "      <td>1</td>\n",
       "      <td>http://www.google.com/</td>\n",
       "      <td>GET</td>\n",
       "      <td></td>\n",
       "      <td>[['Host', 'www.google.com'], ['User-Agent', 'M...</td>\n",
       "      <td>http://google.com</td>\n",
       "      <td>2015-07-14 20:38:40.393791</td>\n",
       "    </tr>\n",
       "    <tr>\n",
       "      <th>2</th>\n",
       "      <td>3</td>\n",
       "      <td>1</td>\n",
       "      <td>https://www.google.com/?gws_rd=ssl</td>\n",
       "      <td>GET</td>\n",
       "      <td></td>\n",
       "      <td>[['Host', 'www.google.com'], ['User-Agent', 'M...</td>\n",
       "      <td>http://google.com</td>\n",
       "      <td>2015-07-14 20:38:40.586784</td>\n",
       "    </tr>\n",
       "    <tr>\n",
       "      <th>3</th>\n",
       "      <td>4</td>\n",
       "      <td>1</td>\n",
       "      <td>https://tiles.services.mozilla.com/v3/links/fe...</td>\n",
       "      <td>GET</td>\n",
       "      <td></td>\n",
       "      <td>[['Host', 'tiles.services.mozilla.com'], ['Use...</td>\n",
       "      <td>http://google.com</td>\n",
       "      <td>2015-07-14 20:38:40.812161</td>\n",
       "    </tr>\n",
       "    <tr>\n",
       "      <th>4</th>\n",
       "      <td>5</td>\n",
       "      <td>1</td>\n",
       "      <td>https://www.google.com/logos/doodles/2015/new-...</td>\n",
       "      <td>GET</td>\n",
       "      <td>https://www.google.com/?gws_rd=ssl</td>\n",
       "      <td>[['Host', 'www.google.com'], ['User-Agent', 'M...</td>\n",
       "      <td>http://google.com</td>\n",
       "      <td>2015-07-14 20:38:40.840828</td>\n",
       "    </tr>\n",
       "  </tbody>\n",
       "</table>\n",
       "</div>"
      ],
      "text/plain": [
       "   id  crawl_id                                                url method  \\\n",
       "0   1         1                                 http://google.com/    GET   \n",
       "1   2         1                             http://www.google.com/    GET   \n",
       "2   3         1                 https://www.google.com/?gws_rd=ssl    GET   \n",
       "3   4         1  https://tiles.services.mozilla.com/v3/links/fe...    GET   \n",
       "4   5         1  https://www.google.com/logos/doodles/2015/new-...    GET   \n",
       "\n",
       "                             referrer  \\\n",
       "0                                       \n",
       "1                                       \n",
       "2                                       \n",
       "3                                       \n",
       "4  https://www.google.com/?gws_rd=ssl   \n",
       "\n",
       "                                             headers            top_url  \\\n",
       "0  [['Host', 'google.com'], ['User-Agent', 'Mozil...  http://google.com   \n",
       "1  [['Host', 'www.google.com'], ['User-Agent', 'M...  http://google.com   \n",
       "2  [['Host', 'www.google.com'], ['User-Agent', 'M...  http://google.com   \n",
       "3  [['Host', 'tiles.services.mozilla.com'], ['Use...  http://google.com   \n",
       "4  [['Host', 'www.google.com'], ['User-Agent', 'M...  http://google.com   \n",
       "\n",
       "                   time_stamp  \n",
       "0  2015-07-14 20:38:40.342442  \n",
       "1  2015-07-14 20:38:40.393791  \n",
       "2  2015-07-14 20:38:40.586784  \n",
       "3  2015-07-14 20:38:40.812161  \n",
       "4  2015-07-14 20:38:40.840828  "
      ]
     },
     "execution_count": 12,
     "metadata": {},
     "output_type": "execute_result"
    }
   ],
   "source": [
    "# Dump HTTP_REQUESTS table\n",
    "pd.read_sql_query(get_head_query.format(table='http_requests',cnt=5), con)"
   ]
  },
  {
   "cell_type": "markdown",
   "metadata": {},
   "source": [
    "* ### HTTP Cookies"
   ]
  },
  {
   "cell_type": "code",
   "execution_count": 13,
   "metadata": {
    "collapsed": false
   },
   "outputs": [
    {
     "data": {
      "text/html": [
       "<div>\n",
       "<table border=\"1\" class=\"dataframe\">\n",
       "  <thead>\n",
       "    <tr style=\"text-align: right;\">\n",
       "      <th></th>\n",
       "      <th>id</th>\n",
       "      <th>crawl_id</th>\n",
       "      <th>header_id</th>\n",
       "      <th>http_type</th>\n",
       "      <th>name</th>\n",
       "      <th>value</th>\n",
       "      <th>domain</th>\n",
       "      <th>path</th>\n",
       "      <th>expires</th>\n",
       "      <th>max_age</th>\n",
       "      <th>httponly</th>\n",
       "      <th>secure</th>\n",
       "      <th>comment</th>\n",
       "      <th>version</th>\n",
       "      <th>accessed</th>\n",
       "    </tr>\n",
       "  </thead>\n",
       "  <tbody>\n",
       "  </tbody>\n",
       "</table>\n",
       "</div>"
      ],
      "text/plain": [
       "Empty DataFrame\n",
       "Columns: [id, crawl_id, header_id, http_type, name, value, domain, path, expires, max_age, httponly, secure, comment, version, accessed]\n",
       "Index: []"
      ]
     },
     "execution_count": 13,
     "metadata": {},
     "output_type": "execute_result"
    }
   ],
   "source": [
    "# Dump HTTP_COOKIES table\n",
    "pd.read_sql_query(get_head_query.format(table='http_cookies',cnt=5), con)"
   ]
  },
  {
   "cell_type": "markdown",
   "metadata": {},
   "source": [
    "* ### Local Storage"
   ]
  },
  {
   "cell_type": "code",
   "execution_count": 14,
   "metadata": {
    "collapsed": false
   },
   "outputs": [
    {
     "data": {
      "text/html": [
       "<div>\n",
       "<table border=\"1\" class=\"dataframe\">\n",
       "  <thead>\n",
       "    <tr style=\"text-align: right;\">\n",
       "      <th></th>\n",
       "      <th>id</th>\n",
       "      <th>crawl_id</th>\n",
       "      <th>page_url</th>\n",
       "      <th>scope</th>\n",
       "      <th>KEY</th>\n",
       "      <th>value</th>\n",
       "    </tr>\n",
       "  </thead>\n",
       "  <tbody>\n",
       "    <tr>\n",
       "      <th>0</th>\n",
       "      <td>1</td>\n",
       "      <td>1</td>\n",
       "      <td>http://youtube.com</td>\n",
       "      <td>moc.ebutuoy.www.:https:443</td>\n",
       "      <td>yt-player-two-stage-token</td>\n",
       "      <td>{\"data\":\"{}\",\"expiration\":1436906635665,\"creat...</td>\n",
       "    </tr>\n",
       "    <tr>\n",
       "      <th>1</th>\n",
       "      <td>2</td>\n",
       "      <td>1</td>\n",
       "      <td>http://youtube.com</td>\n",
       "      <td>moc.ebutuoy.www.:https:443</td>\n",
       "      <td>yt-remote-device-id</td>\n",
       "      <td>{\"data\":\"a379909a-6707-46f0-a909-833d8b957b91\"...</td>\n",
       "    </tr>\n",
       "    <tr>\n",
       "      <th>2</th>\n",
       "      <td>3</td>\n",
       "      <td>1</td>\n",
       "      <td>http://youtube.com</td>\n",
       "      <td>moc.ebutuoy.www.:https:443</td>\n",
       "      <td>yt-remote-online-screens</td>\n",
       "      <td>{\"data\":\"[]\",\"expiration\":1436906395676,\"creat...</td>\n",
       "    </tr>\n",
       "    <tr>\n",
       "      <th>3</th>\n",
       "      <td>4</td>\n",
       "      <td>1</td>\n",
       "      <td>http://youtube.com</td>\n",
       "      <td>moc.ebutuoy.www.:https:443</td>\n",
       "      <td>yt-remote-connected-devices</td>\n",
       "      <td>{\"data\":\"[]\",\"expiration\":1436992735677,\"creat...</td>\n",
       "    </tr>\n",
       "    <tr>\n",
       "      <th>4</th>\n",
       "      <td>5</td>\n",
       "      <td>1</td>\n",
       "      <td>http://msn.com</td>\n",
       "      <td>moc.koobecaf.www.:https:443</td>\n",
       "      <td>sp_pi</td>\n",
       "      <td>{\"pageInfo\":{\"scriptPath\":\"/index.php\",\"catego...</td>\n",
       "    </tr>\n",
       "    <tr>\n",
       "      <th>5</th>\n",
       "      <td>6</td>\n",
       "      <td>1</td>\n",
       "      <td>http://msn.com</td>\n",
       "      <td>moc.koobecaf.www.:https:443</td>\n",
       "      <td>bz:rcq2sb.1436906348279</td>\n",
       "      <td>[[\"script_path_change\",{\"source_path\":null,\"so...</td>\n",
       "    </tr>\n",
       "    <tr>\n",
       "      <th>6</th>\n",
       "      <td>7</td>\n",
       "      <td>1</td>\n",
       "      <td>http://yelp.com</td>\n",
       "      <td>moc.nsm.www.:http:80</td>\n",
       "      <td>_chartbeat4</td>\n",
       "      <td>t=rML3ZCXeB3ThcQdrCG2tNKCLEI5k&amp;E=0&amp;x=0&amp;c=0.06&amp;...</td>\n",
       "    </tr>\n",
       "    <tr>\n",
       "      <th>7</th>\n",
       "      <td>8</td>\n",
       "      <td>1</td>\n",
       "      <td>http://yelp.com</td>\n",
       "      <td>moc.nsm.www.:http:80</td>\n",
       "      <td>_chartbeat4_expires</td>\n",
       "      <td>1436909958710</td>\n",
       "    </tr>\n",
       "    <tr>\n",
       "      <th>8</th>\n",
       "      <td>9</td>\n",
       "      <td>1</td>\n",
       "      <td>http://yelp.com</td>\n",
       "      <td>moc.nsm.www.:http:80</td>\n",
       "      <td>_chartbeat2</td>\n",
       "      <td>BL9Y6GClGa_RDB-KnC.1436906355226.1436906355226.1</td>\n",
       "    </tr>\n",
       "    <tr>\n",
       "      <th>9</th>\n",
       "      <td>10</td>\n",
       "      <td>1</td>\n",
       "      <td>http://yelp.com</td>\n",
       "      <td>moc.nsm.www.:http:80</td>\n",
       "      <td>_chartbeat2_expires</td>\n",
       "      <td>1499978355229</td>\n",
       "    </tr>\n",
       "  </tbody>\n",
       "</table>\n",
       "</div>"
      ],
      "text/plain": [
       "   id  crawl_id            page_url                        scope  \\\n",
       "0   1         1  http://youtube.com   moc.ebutuoy.www.:https:443   \n",
       "1   2         1  http://youtube.com   moc.ebutuoy.www.:https:443   \n",
       "2   3         1  http://youtube.com   moc.ebutuoy.www.:https:443   \n",
       "3   4         1  http://youtube.com   moc.ebutuoy.www.:https:443   \n",
       "4   5         1      http://msn.com  moc.koobecaf.www.:https:443   \n",
       "5   6         1      http://msn.com  moc.koobecaf.www.:https:443   \n",
       "6   7         1     http://yelp.com         moc.nsm.www.:http:80   \n",
       "7   8         1     http://yelp.com         moc.nsm.www.:http:80   \n",
       "8   9         1     http://yelp.com         moc.nsm.www.:http:80   \n",
       "9  10         1     http://yelp.com         moc.nsm.www.:http:80   \n",
       "\n",
       "                           KEY  \\\n",
       "0    yt-player-two-stage-token   \n",
       "1          yt-remote-device-id   \n",
       "2     yt-remote-online-screens   \n",
       "3  yt-remote-connected-devices   \n",
       "4                        sp_pi   \n",
       "5      bz:rcq2sb.1436906348279   \n",
       "6                  _chartbeat4   \n",
       "7          _chartbeat4_expires   \n",
       "8                  _chartbeat2   \n",
       "9          _chartbeat2_expires   \n",
       "\n",
       "                                               value  \n",
       "0  {\"data\":\"{}\",\"expiration\":1436906635665,\"creat...  \n",
       "1  {\"data\":\"a379909a-6707-46f0-a909-833d8b957b91\"...  \n",
       "2  {\"data\":\"[]\",\"expiration\":1436906395676,\"creat...  \n",
       "3  {\"data\":\"[]\",\"expiration\":1436992735677,\"creat...  \n",
       "4  {\"pageInfo\":{\"scriptPath\":\"/index.php\",\"catego...  \n",
       "5  [[\"script_path_change\",{\"source_path\":null,\"so...  \n",
       "6  t=rML3ZCXeB3ThcQdrCG2tNKCLEI5k&E=0&x=0&c=0.06&...  \n",
       "7                                      1436909958710  \n",
       "8   BL9Y6GClGa_RDB-KnC.1436906355226.1436906355226.1  \n",
       "9                                      1499978355229  "
      ]
     },
     "execution_count": 14,
     "metadata": {},
     "output_type": "execute_result"
    }
   ],
   "source": [
    "# Dump LOCAL_STORAGE table\n",
    "pd.read_sql_query(get_head_query.format(table='localStorage',cnt=10), con)"
   ]
  },
  {
   "cell_type": "markdown",
   "metadata": {},
   "source": [
    "* ### Crawl"
   ]
  },
  {
   "cell_type": "code",
   "execution_count": 15,
   "metadata": {
    "collapsed": false
   },
   "outputs": [
    {
     "data": {
      "text/html": [
       "<div>\n",
       "<table border=\"1\" class=\"dataframe\">\n",
       "  <thead>\n",
       "    <tr style=\"text-align: right;\">\n",
       "      <th></th>\n",
       "      <th>crawl_id</th>\n",
       "      <th>task_id</th>\n",
       "      <th>start_time</th>\n",
       "      <th>profile</th>\n",
       "      <th>browser</th>\n",
       "      <th>headless</th>\n",
       "      <th>proxy</th>\n",
       "      <th>debugging</th>\n",
       "      <th>disable_flash</th>\n",
       "      <th>extensions</th>\n",
       "      <th>screen_res</th>\n",
       "      <th>ua_string</th>\n",
       "      <th>finished</th>\n",
       "    </tr>\n",
       "  </thead>\n",
       "  <tbody>\n",
       "    <tr>\n",
       "      <th>0</th>\n",
       "      <td>1</td>\n",
       "      <td>1</td>\n",
       "      <td>2015-07-14 20:38:37</td>\n",
       "      <td>None</td>\n",
       "      <td>firefox</td>\n",
       "      <td>1</td>\n",
       "      <td>1</td>\n",
       "      <td>0</td>\n",
       "      <td>0</td>\n",
       "      <td>None</td>\n",
       "      <td>(1366, 768)</td>\n",
       "      <td>None</td>\n",
       "      <td>1</td>\n",
       "    </tr>\n",
       "  </tbody>\n",
       "</table>\n",
       "</div>"
      ],
      "text/plain": [
       "   crawl_id  task_id           start_time profile  browser headless proxy  \\\n",
       "0         1        1  2015-07-14 20:38:37    None  firefox        1     1   \n",
       "\n",
       "  debugging disable_flash extensions   screen_res ua_string  finished  \n",
       "0         0             0       None  (1366, 768)      None         1  "
      ]
     },
     "execution_count": 15,
     "metadata": {},
     "output_type": "execute_result"
    }
   ],
   "source": [
    "# Dump CRAWL table\n",
    "pd.read_sql_query(get_head_query.format(table='crawl',cnt=4), con)"
   ]
  },
  {
   "cell_type": "markdown",
   "metadata": {},
   "source": [
    "* ### Crawl History"
   ]
  },
  {
   "cell_type": "code",
   "execution_count": 16,
   "metadata": {
    "collapsed": false
   },
   "outputs": [
    {
     "data": {
      "text/html": [
       "<div>\n",
       "<table border=\"1\" class=\"dataframe\">\n",
       "  <thead>\n",
       "    <tr style=\"text-align: right;\">\n",
       "      <th></th>\n",
       "      <th>crawl_id</th>\n",
       "      <th>command</th>\n",
       "      <th>arguments</th>\n",
       "      <th>bool_success</th>\n",
       "      <th>dtg</th>\n",
       "    </tr>\n",
       "  </thead>\n",
       "  <tbody>\n",
       "    <tr>\n",
       "      <th>0</th>\n",
       "      <td>1</td>\n",
       "      <td>GET</td>\n",
       "      <td>http://google.com</td>\n",
       "      <td>1</td>\n",
       "      <td>2015-07-14 20:38:44</td>\n",
       "    </tr>\n",
       "    <tr>\n",
       "      <th>1</th>\n",
       "      <td>1</td>\n",
       "      <td>DUMP_STORAGE_VECTORS</td>\n",
       "      <td>http://google.com</td>\n",
       "      <td>1</td>\n",
       "      <td>2015-07-14 20:38:46</td>\n",
       "    </tr>\n",
       "    <tr>\n",
       "      <th>2</th>\n",
       "      <td>1</td>\n",
       "      <td>GET</td>\n",
       "      <td>http://youtube.com</td>\n",
       "      <td>1</td>\n",
       "      <td>2015-07-14 20:38:57</td>\n",
       "    </tr>\n",
       "    <tr>\n",
       "      <th>3</th>\n",
       "      <td>1</td>\n",
       "      <td>DUMP_STORAGE_VECTORS</td>\n",
       "      <td>http://youtube.com</td>\n",
       "      <td>1</td>\n",
       "      <td>2015-07-14 20:39:00</td>\n",
       "    </tr>\n",
       "    <tr>\n",
       "      <th>4</th>\n",
       "      <td>1</td>\n",
       "      <td>GET</td>\n",
       "      <td>http://facebook.com</td>\n",
       "      <td>1</td>\n",
       "      <td>2015-07-14 20:39:07</td>\n",
       "    </tr>\n",
       "  </tbody>\n",
       "</table>\n",
       "</div>"
      ],
      "text/plain": [
       "   crawl_id               command            arguments  bool_success  \\\n",
       "0         1                   GET    http://google.com             1   \n",
       "1         1  DUMP_STORAGE_VECTORS    http://google.com             1   \n",
       "2         1                   GET   http://youtube.com             1   \n",
       "3         1  DUMP_STORAGE_VECTORS   http://youtube.com             1   \n",
       "4         1                   GET  http://facebook.com             1   \n",
       "\n",
       "                   dtg  \n",
       "0  2015-07-14 20:38:44  \n",
       "1  2015-07-14 20:38:46  \n",
       "2  2015-07-14 20:38:57  \n",
       "3  2015-07-14 20:39:00  \n",
       "4  2015-07-14 20:39:07  "
      ]
     },
     "execution_count": 16,
     "metadata": {},
     "output_type": "execute_result"
    }
   ],
   "source": [
    "# Dump CRAWL_HISTORY table\n",
    "pd.read_sql_query(get_head_query.format(table='CrawlHistory',cnt=5), con)"
   ]
  },
  {
   "cell_type": "markdown",
   "metadata": {},
   "source": [
    "* ### Flash Cookies"
   ]
  },
  {
   "cell_type": "code",
   "execution_count": 17,
   "metadata": {
    "collapsed": false
   },
   "outputs": [
    {
     "data": {
      "text/html": [
       "<div>\n",
       "<table border=\"1\" class=\"dataframe\">\n",
       "  <thead>\n",
       "    <tr style=\"text-align: right;\">\n",
       "      <th></th>\n",
       "      <th>id</th>\n",
       "      <th>crawl_id</th>\n",
       "      <th>page_url</th>\n",
       "      <th>domain</th>\n",
       "      <th>filename</th>\n",
       "      <th>local_path</th>\n",
       "      <th>key</th>\n",
       "      <th>content</th>\n",
       "    </tr>\n",
       "  </thead>\n",
       "  <tbody>\n",
       "    <tr>\n",
       "      <th>0</th>\n",
       "      <td>1</td>\n",
       "      <td>1</td>\n",
       "      <td>http://youtube.com</td>\n",
       "      <td>s.ytimg.com</td>\n",
       "      <td>soundData.sol</td>\n",
       "      <td>963532TV/s.ytimg.com/soundData.sol</td>\n",
       "      <td>volume</td>\n",
       "      <td>50</td>\n",
       "    </tr>\n",
       "    <tr>\n",
       "      <th>1</th>\n",
       "      <td>2</td>\n",
       "      <td>1</td>\n",
       "      <td>http://youtube.com</td>\n",
       "      <td>s.ytimg.com</td>\n",
       "      <td>soundData.sol</td>\n",
       "      <td>963532TV/s.ytimg.com/soundData.sol</td>\n",
       "      <td>mute</td>\n",
       "      <td>True</td>\n",
       "    </tr>\n",
       "    <tr>\n",
       "      <th>2</th>\n",
       "      <td>3</td>\n",
       "      <td>1</td>\n",
       "      <td>http://cnn.com</td>\n",
       "      <td>z.cdn.turner.com</td>\n",
       "      <td>octoshapeuserinfo.sol</td>\n",
       "      <td>963532TV/z.cdn.turner.com/octoshapeuserinfo.sol</td>\n",
       "      <td>userplayerid</td>\n",
       "      <td>9402584852</td>\n",
       "    </tr>\n",
       "    <tr>\n",
       "      <th>3</th>\n",
       "      <td>4</td>\n",
       "      <td>1</td>\n",
       "      <td>http://cnn.com</td>\n",
       "      <td>z.cdn.turner.com</td>\n",
       "      <td>mutedPersistence.sol</td>\n",
       "      <td>963532TV/z.cdn.turner.com/mutedPersistence.sol</td>\n",
       "      <td>muted</td>\n",
       "      <td>True</td>\n",
       "    </tr>\n",
       "    <tr>\n",
       "      <th>4</th>\n",
       "      <td>5</td>\n",
       "      <td>1</td>\n",
       "      <td>http://cnn.com</td>\n",
       "      <td>z.cdn.turner.com</td>\n",
       "      <td>HDCore.sol</td>\n",
       "      <td>963532TV/z.cdn.turner.com/xslo/cvp/core/player...</td>\n",
       "      <td>bandwidth</td>\n",
       "      <td>931152</td>\n",
       "    </tr>\n",
       "  </tbody>\n",
       "</table>\n",
       "</div>"
      ],
      "text/plain": [
       "   id  crawl_id            page_url            domain               filename  \\\n",
       "0   1         1  http://youtube.com       s.ytimg.com          soundData.sol   \n",
       "1   2         1  http://youtube.com       s.ytimg.com          soundData.sol   \n",
       "2   3         1      http://cnn.com  z.cdn.turner.com  octoshapeuserinfo.sol   \n",
       "3   4         1      http://cnn.com  z.cdn.turner.com   mutedPersistence.sol   \n",
       "4   5         1      http://cnn.com  z.cdn.turner.com             HDCore.sol   \n",
       "\n",
       "                                          local_path           key     content  \n",
       "0                 963532TV/s.ytimg.com/soundData.sol        volume          50  \n",
       "1                 963532TV/s.ytimg.com/soundData.sol          mute        True  \n",
       "2    963532TV/z.cdn.turner.com/octoshapeuserinfo.sol  userplayerid  9402584852  \n",
       "3     963532TV/z.cdn.turner.com/mutedPersistence.sol         muted        True  \n",
       "4  963532TV/z.cdn.turner.com/xslo/cvp/core/player...     bandwidth      931152  "
      ]
     },
     "execution_count": 17,
     "metadata": {},
     "output_type": "execute_result"
    }
   ],
   "source": [
    "# Dump FLASH_COOKIES table\n",
    "pd.read_sql_query(get_head_query.format(table='flash_cookies',cnt=7), con)"
   ]
  },
  {
   "cell_type": "markdown",
   "metadata": {
    "collapsed": true
   },
   "source": [
    "## Further Exploration\n",
    "\n",
    "It seems the interesting tables for us will be:  \n",
    "* `profile_cookies` and `localStorage` (for all the meat)  \n",
    "* `CrawlHistory` for possible additional metadata (although the `page_url` is already included in the *meat* tables)"
   ]
  },
  {
   "cell_type": "markdown",
   "metadata": {},
   "source": [
    "### Failed crawl history"
   ]
  },
  {
   "cell_type": "code",
   "execution_count": 18,
   "metadata": {
    "collapsed": false
   },
   "outputs": [
    {
     "data": {
      "text/html": [
       "<div>\n",
       "<table border=\"1\" class=\"dataframe\">\n",
       "  <thead>\n",
       "    <tr style=\"text-align: right;\">\n",
       "      <th></th>\n",
       "      <th>bool_success</th>\n",
       "      <th>count</th>\n",
       "    </tr>\n",
       "  </thead>\n",
       "  <tbody>\n",
       "    <tr>\n",
       "      <th>0</th>\n",
       "      <td>-1</td>\n",
       "      <td>2</td>\n",
       "    </tr>\n",
       "    <tr>\n",
       "      <th>1</th>\n",
       "      <td>1</td>\n",
       "      <td>198</td>\n",
       "    </tr>\n",
       "  </tbody>\n",
       "</table>\n",
       "</div>"
      ],
      "text/plain": [
       "   bool_success  count\n",
       "0            -1      2\n",
       "1             1    198"
      ]
     },
     "execution_count": 18,
     "metadata": {},
     "output_type": "execute_result"
    }
   ],
   "source": [
    "pd.read_sql_query('SELECT bool_success, COUNT(*) AS count FROM CrawlHistory GROUP BY bool_success;', con)"
   ]
  },
  {
   "cell_type": "code",
   "execution_count": 19,
   "metadata": {
    "collapsed": false
   },
   "outputs": [
    {
     "data": {
      "text/html": [
       "<div>\n",
       "<table border=\"1\" class=\"dataframe\">\n",
       "  <thead>\n",
       "    <tr style=\"text-align: right;\">\n",
       "      <th></th>\n",
       "      <th>crawl_id</th>\n",
       "      <th>command</th>\n",
       "      <th>arguments</th>\n",
       "      <th>bool_success</th>\n",
       "      <th>dtg</th>\n",
       "    </tr>\n",
       "  </thead>\n",
       "  <tbody>\n",
       "    <tr>\n",
       "      <th>0</th>\n",
       "      <td>1</td>\n",
       "      <td>GET</td>\n",
       "      <td>http://nydailynews.com</td>\n",
       "      <td>-1</td>\n",
       "      <td>2015-07-14 20:46:33</td>\n",
       "    </tr>\n",
       "    <tr>\n",
       "      <th>1</th>\n",
       "      <td>1</td>\n",
       "      <td>DUMP_STORAGE_VECTORS</td>\n",
       "      <td>http://moviepilot.com</td>\n",
       "      <td>-1</td>\n",
       "      <td>2015-07-14 21:00:04</td>\n",
       "    </tr>\n",
       "  </tbody>\n",
       "</table>\n",
       "</div>"
      ],
      "text/plain": [
       "   crawl_id               command               arguments  bool_success  \\\n",
       "0         1                   GET  http://nydailynews.com            -1   \n",
       "1         1  DUMP_STORAGE_VECTORS   http://moviepilot.com            -1   \n",
       "\n",
       "                   dtg  \n",
       "0  2015-07-14 20:46:33  \n",
       "1  2015-07-14 21:00:04  "
      ]
     },
     "execution_count": 19,
     "metadata": {},
     "output_type": "execute_result"
    }
   ],
   "source": [
    "pd.read_sql_query('SELECT * FROM CrawlHistory WHERE bool_success = -1;', con)"
   ]
  },
  {
   "cell_type": "code",
   "execution_count": null,
   "metadata": {
    "collapsed": true
   },
   "outputs": [],
   "source": []
  },
  {
   "cell_type": "markdown",
   "metadata": {},
   "source": [
    "### Most popular base domains"
   ]
  },
  {
   "cell_type": "code",
   "execution_count": 20,
   "metadata": {
    "collapsed": false
   },
   "outputs": [
    {
     "name": "stdout",
     "output_type": "stream",
     "text": [
      "358\n"
     ]
    }
   ],
   "source": [
    "# Get number of different base domains\n",
    "cur.execute('SELECT baseDomain, COUNT(*) FROM profile_cookies GROUP BY baseDomain;')\n",
    "\n",
    "r = cur.fetchall()\n",
    "print len(r)"
   ]
  },
  {
   "cell_type": "code",
   "execution_count": 21,
   "metadata": {
    "collapsed": false,
    "scrolled": false
   },
   "outputs": [],
   "source": [
    "base_domains = pd.read_sql_query('SELECT baseDomain, COUNT(*) as count FROM profile_cookies GROUP BY baseDomain;', con)"
   ]
  },
  {
   "cell_type": "code",
   "execution_count": 23,
   "metadata": {
    "collapsed": false
   },
   "outputs": [
    {
     "data": {
      "image/png": "[encoded data removed]",
      "text/plain": [
       "<matplotlib.figure.Figure at 0x1040989d0>"
      ]
     },
     "metadata": {},
     "output_type": "display_data"
    }
   ],
   "source": [
    "base_domains.plot(kind='bar')\n",
    "plt.show()"
   ]
  },
  {
   "cell_type": "code",
   "execution_count": 25,
   "metadata": {
    "collapsed": false
   },
   "outputs": [
    {
     "data": {
      "text/plain": [
       "(140, 2)"
      ]
     },
     "execution_count": 25,
     "metadata": {},
     "output_type": "execute_result"
    }
   ],
   "source": [
    "morethan10 = base_domains[ base_domains['count'] >= 10 ]\n",
    "morethan10.shape"
   ]
  },
  {
   "cell_type": "code",
   "execution_count": 38,
   "metadata": {
    "collapsed": false
   },
   "outputs": [
    {
     "data": {
      "image/png": "[encoded data removed]",
      "text/plain": [
       "<matplotlib.figure.Figure at 0x1103cfd90>"
      ]
     },
     "metadata": {},
     "output_type": "display_data"
    }
   ],
   "source": [
    "morethan10.sort_values('count').plot(kind='bar')\n",
    "plt.show()"
   ]
  },
  {
   "cell_type": "code",
   "execution_count": 27,
   "metadata": {
    "collapsed": false
   },
   "outputs": [
    {
     "data": {
      "image/png": "[encoded data removed]",
      "text/plain": [
       "<matplotlib.figure.Figure at 0x1105382d0>"
      ]
     },
     "metadata": {},
     "output_type": "display_data"
    }
   ],
   "source": [
    "morethan100 = morethan10[ morethan10['count'] >= 100 ]\n",
    "morethan100.set_index('baseDomain', inplace=True)\n",
    "morethan100.plot(kind='bar')\n",
    "plt.show()"
   ]
  },
  {
   "cell_type": "code",
   "execution_count": 28,
   "metadata": {
    "collapsed": false,
    "scrolled": true
   },
   "outputs": [
    {
     "data": {
      "text/html": [
       "<div>\n",
       "<table border=\"1\" class=\"dataframe\">\n",
       "  <thead>\n",
       "    <tr style=\"text-align: right;\">\n",
       "      <th></th>\n",
       "      <th>page_url</th>\n",
       "    </tr>\n",
       "  </thead>\n",
       "  <tbody>\n",
       "    <tr>\n",
       "      <th>0</th>\n",
       "      <td>http://yelp.com</td>\n",
       "    </tr>\n",
       "    <tr>\n",
       "      <th>1</th>\n",
       "      <td>http://amazon.com</td>\n",
       "    </tr>\n",
       "    <tr>\n",
       "      <th>2</th>\n",
       "      <td>http://wikia.com</td>\n",
       "    </tr>\n",
       "    <tr>\n",
       "      <th>3</th>\n",
       "      <td>http://whitepages.com</td>\n",
       "    </tr>\n",
       "    <tr>\n",
       "      <th>4</th>\n",
       "      <td>http://urbandictionary.com</td>\n",
       "    </tr>\n",
       "    <tr>\n",
       "      <th>5</th>\n",
       "      <td>http://walmart.com</td>\n",
       "    </tr>\n",
       "    <tr>\n",
       "      <th>6</th>\n",
       "      <td>http://wayfair.com</td>\n",
       "    </tr>\n",
       "    <tr>\n",
       "      <th>7</th>\n",
       "      <td>http://ask.com</td>\n",
       "    </tr>\n",
       "    <tr>\n",
       "      <th>8</th>\n",
       "      <td>http://nydailynews.com</td>\n",
       "    </tr>\n",
       "    <tr>\n",
       "      <th>9</th>\n",
       "      <td>http://nytimes.com</td>\n",
       "    </tr>\n",
       "    <tr>\n",
       "      <th>10</th>\n",
       "      <td>http://healthline.com</td>\n",
       "    </tr>\n",
       "    <tr>\n",
       "      <th>11</th>\n",
       "      <td>http://people.com</td>\n",
       "    </tr>\n",
       "    <tr>\n",
       "      <th>12</th>\n",
       "      <td>http://photobucket.com</td>\n",
       "    </tr>\n",
       "    <tr>\n",
       "      <th>13</th>\n",
       "      <td>http://theblaze.com</td>\n",
       "    </tr>\n",
       "    <tr>\n",
       "      <th>14</th>\n",
       "      <td>http://topix.com</td>\n",
       "    </tr>\n",
       "    <tr>\n",
       "      <th>15</th>\n",
       "      <td>http://nbcnews.com</td>\n",
       "    </tr>\n",
       "    <tr>\n",
       "      <th>16</th>\n",
       "      <td>http://instructables.com</td>\n",
       "    </tr>\n",
       "    <tr>\n",
       "      <th>17</th>\n",
       "      <td>http://qpolitical.com</td>\n",
       "    </tr>\n",
       "    <tr>\n",
       "      <th>18</th>\n",
       "      <td>http://gawker.com</td>\n",
       "    </tr>\n",
       "    <tr>\n",
       "      <th>19</th>\n",
       "      <td>http://thechive.com</td>\n",
       "    </tr>\n",
       "    <tr>\n",
       "      <th>20</th>\n",
       "      <td>http://deadspin.com</td>\n",
       "    </tr>\n",
       "    <tr>\n",
       "      <th>21</th>\n",
       "      <td>http://deviantart.com</td>\n",
       "    </tr>\n",
       "    <tr>\n",
       "      <th>22</th>\n",
       "      <td>http://lifehacker.com</td>\n",
       "    </tr>\n",
       "    <tr>\n",
       "      <th>23</th>\n",
       "      <td>http://yellowpages.com</td>\n",
       "    </tr>\n",
       "  </tbody>\n",
       "</table>\n",
       "</div>"
      ],
      "text/plain": [
       "                      page_url\n",
       "0              http://yelp.com\n",
       "1            http://amazon.com\n",
       "2             http://wikia.com\n",
       "3        http://whitepages.com\n",
       "4   http://urbandictionary.com\n",
       "5           http://walmart.com\n",
       "6           http://wayfair.com\n",
       "7               http://ask.com\n",
       "8       http://nydailynews.com\n",
       "9           http://nytimes.com\n",
       "10       http://healthline.com\n",
       "11           http://people.com\n",
       "12      http://photobucket.com\n",
       "13         http://theblaze.com\n",
       "14            http://topix.com\n",
       "15          http://nbcnews.com\n",
       "16    http://instructables.com\n",
       "17       http://qpolitical.com\n",
       "18           http://gawker.com\n",
       "19         http://thechive.com\n",
       "20         http://deadspin.com\n",
       "21       http://deviantart.com\n",
       "22       http://lifehacker.com\n",
       "23      http://yellowpages.com"
      ]
     },
     "execution_count": 28,
     "metadata": {},
     "output_type": "execute_result"
    }
   ],
   "source": [
    "pd.read_sql_query('SELECT DISTINCT page_url FROM profile_cookies WHERE baseDomain = \"rubiconproject.com\";', con)"
   ]
  },
  {
   "cell_type": "code",
   "execution_count": null,
   "metadata": {
    "collapsed": true
   },
   "outputs": [],
   "source": []
  },
  {
   "cell_type": "markdown",
   "metadata": {},
   "source": [
    "### Most popular scopes"
   ]
  },
  {
   "cell_type": "code",
   "execution_count": 29,
   "metadata": {
    "collapsed": false
   },
   "outputs": [
    {
     "name": "stdout",
     "output_type": "stream",
     "text": [
      "67\n"
     ]
    }
   ],
   "source": [
    "# Get number of different scopes\n",
    "cur.execute('SELECT scope, COUNT(*) as count FROM localStorage GROUP BY scope;')\n",
    "\n",
    "r = cur.fetchall()\n",
    "print len(r)"
   ]
  },
  {
   "cell_type": "code",
   "execution_count": 30,
   "metadata": {
    "collapsed": true
   },
   "outputs": [],
   "source": [
    "scopes = pd.read_sql_query('SELECT scope, COUNT(*) as count FROM localStorage GROUP BY scope;', con)"
   ]
  },
  {
   "cell_type": "code",
   "execution_count": 36,
   "metadata": {
    "collapsed": false
   },
   "outputs": [
    {
     "data": {
      "text/html": [
       "<div>\n",
       "<table border=\"1\" class=\"dataframe\">\n",
       "  <thead>\n",
       "    <tr style=\"text-align: right;\">\n",
       "      <th></th>\n",
       "      <th>scope</th>\n",
       "      <th>count</th>\n",
       "    </tr>\n",
       "  </thead>\n",
       "  <tbody>\n",
       "    <tr>\n",
       "      <th>0</th>\n",
       "      <td>gro.allizom.www.:https:443</td>\n",
       "      <td>2</td>\n",
       "    </tr>\n",
       "    <tr>\n",
       "      <th>1</th>\n",
       "      <td>moc.aikiw.www.:http:80</td>\n",
       "      <td>35</td>\n",
       "    </tr>\n",
       "    <tr>\n",
       "      <th>2</th>\n",
       "      <td>moc.alayoo.reyalp.:http:80</td>\n",
       "      <td>1</td>\n",
       "    </tr>\n",
       "    <tr>\n",
       "      <th>3</th>\n",
       "      <td>moc.bdmi.www.:http:80</td>\n",
       "      <td>1</td>\n",
       "    </tr>\n",
       "    <tr>\n",
       "      <th>4</th>\n",
       "      <td>moc.cim.:http:80</td>\n",
       "      <td>1</td>\n",
       "    </tr>\n",
       "  </tbody>\n",
       "</table>\n",
       "</div>"
      ],
      "text/plain": [
       "                        scope  count\n",
       "0  gro.allizom.www.:https:443      2\n",
       "1      moc.aikiw.www.:http:80     35\n",
       "2  moc.alayoo.reyalp.:http:80      1\n",
       "3       moc.bdmi.www.:http:80      1\n",
       "4            moc.cim.:http:80      1"
      ]
     },
     "execution_count": 36,
     "metadata": {},
     "output_type": "execute_result"
    }
   ],
   "source": [
    "scopes.head()"
   ]
  },
  {
   "cell_type": "code",
   "execution_count": 37,
   "metadata": {
    "collapsed": false
   },
   "outputs": [
    {
     "data": {
      "text/plain": [
       "<matplotlib.axes._subplots.AxesSubplot at 0x11226b510>"
      ]
     },
     "execution_count": 37,
     "metadata": {},
     "output_type": "execute_result"
    },
    {
     "data": {
      "image/png": "[encoded data removed]",
      "text/plain": [
       "<matplotlib.figure.Figure at 0x113391e90>"
      ]
     },
     "metadata": {},
     "output_type": "display_data"
    }
   ],
   "source": [
    "scopes.sort_values('count').plot(kind='bar')"
   ]
  },
  {
   "cell_type": "code",
   "execution_count": 58,
   "metadata": {
    "collapsed": false
   },
   "outputs": [
    {
     "data": {
      "text/html": [
       "<div>\n",
       "<table border=\"1\" class=\"dataframe\">\n",
       "  <thead>\n",
       "    <tr style=\"text-align: right;\">\n",
       "      <th></th>\n",
       "      <th>scope</th>\n",
       "      <th>count</th>\n",
       "    </tr>\n",
       "  </thead>\n",
       "  <tbody>\n",
       "    <tr>\n",
       "      <th>34</th>\n",
       "      <td>moc.rekwag.:http:80</td>\n",
       "      <td>68</td>\n",
       "    </tr>\n",
       "    <tr>\n",
       "      <th>44</th>\n",
       "      <td>moc.semityn.www.:http:80</td>\n",
       "      <td>66</td>\n",
       "    </tr>\n",
       "    <tr>\n",
       "      <th>48</th>\n",
       "      <td>moc.swencbn.www.:http:80</td>\n",
       "      <td>64</td>\n",
       "    </tr>\n",
       "    <tr>\n",
       "      <th>16</th>\n",
       "      <td>moc.enilnoe.www.:http:80</td>\n",
       "      <td>46</td>\n",
       "    </tr>\n",
       "    <tr>\n",
       "      <th>28</th>\n",
       "      <td>moc.noitanbs.www.:http:80</td>\n",
       "      <td>45</td>\n",
       "    </tr>\n",
       "  </tbody>\n",
       "</table>\n",
       "</div>"
      ],
      "text/plain": [
       "                        scope  count\n",
       "34        moc.rekwag.:http:80     68\n",
       "44   moc.semityn.www.:http:80     66\n",
       "48   moc.swencbn.www.:http:80     64\n",
       "16   moc.enilnoe.www.:http:80     46\n",
       "28  moc.noitanbs.www.:http:80     45"
      ]
     },
     "execution_count": 58,
     "metadata": {},
     "output_type": "execute_result"
    }
   ],
   "source": [
    "scopes.sort_values(by='count', ascending=False, inplace=True)\n",
    "scopes.head()"
   ]
  },
  {
   "cell_type": "code",
   "execution_count": 72,
   "metadata": {
    "collapsed": false
   },
   "outputs": [
    {
     "data": {
      "text/html": [
       "<div>\n",
       "<table border=\"1\" class=\"dataframe\">\n",
       "  <thead>\n",
       "    <tr style=\"text-align: right;\">\n",
       "      <th></th>\n",
       "      <th>page_url</th>\n",
       "    </tr>\n",
       "  </thead>\n",
       "  <tbody>\n",
       "    <tr>\n",
       "      <th>0</th>\n",
       "      <td>http://gawker.com</td>\n",
       "    </tr>\n",
       "    <tr>\n",
       "      <th>1</th>\n",
       "      <td>http://vox.com</td>\n",
       "    </tr>\n",
       "  </tbody>\n",
       "</table>\n",
       "</div>"
      ],
      "text/plain": [
       "            page_url\n",
       "0  http://gawker.com\n",
       "1     http://vox.com"
      ]
     },
     "execution_count": 72,
     "metadata": {},
     "output_type": "execute_result"
    }
   ],
   "source": [
    "pd.read_sql_query('SELECT DISTINCT page_url FROM localStorage WHERE scope = \"moc.rekwag.:http:80\";', con)"
   ]
  },
  {
   "cell_type": "code",
   "execution_count": 80,
   "metadata": {
    "collapsed": false
   },
   "outputs": [
    {
     "data": {
      "text/html": [
       "<div>\n",
       "<table border=\"1\" class=\"dataframe\">\n",
       "  <thead>\n",
       "    <tr style=\"text-align: right;\">\n",
       "      <th></th>\n",
       "      <th>page_url</th>\n",
       "    </tr>\n",
       "  </thead>\n",
       "  <tbody>\n",
       "    <tr>\n",
       "      <th>0</th>\n",
       "      <td>http://nytimes.com</td>\n",
       "    </tr>\n",
       "    <tr>\n",
       "      <th>1</th>\n",
       "      <td>http://mozilla.org</td>\n",
       "    </tr>\n",
       "  </tbody>\n",
       "</table>\n",
       "</div>"
      ],
      "text/plain": [
       "             page_url\n",
       "0  http://nytimes.com\n",
       "1  http://mozilla.org"
      ]
     },
     "execution_count": 80,
     "metadata": {},
     "output_type": "execute_result"
    }
   ],
   "source": [
    "pd.read_sql_query('SELECT DISTINCT page_url FROM localStorage WHERE scope LIKE \"%semityn%\";', con)"
   ]
  },
  {
   "cell_type": "code",
   "execution_count": null,
   "metadata": {
    "collapsed": true
   },
   "outputs": [],
   "source": []
  },
  {
   "cell_type": "markdown",
   "metadata": {},
   "source": [
    "### Most popular cookies"
   ]
  },
  {
   "cell_type": "code",
   "execution_count": 74,
   "metadata": {
    "collapsed": false
   },
   "outputs": [
    {
     "name": "stdout",
     "output_type": "stream",
     "text": [
      "1358\n"
     ]
    }
   ],
   "source": [
    "# Get number of different cookies\n",
    "cur.execute('SELECT name, COUNT(*) as count FROM profile_cookies GROUP BY name;')\n",
    "\n",
    "r = cur.fetchall()\n",
    "print len(r)"
   ]
  },
  {
   "cell_type": "code",
   "execution_count": 75,
   "metadata": {
    "collapsed": false
   },
   "outputs": [
    {
     "data": {
      "text/html": [
       "<div>\n",
       "<table border=\"1\" class=\"dataframe\">\n",
       "  <thead>\n",
       "    <tr style=\"text-align: right;\">\n",
       "      <th></th>\n",
       "      <th>name</th>\n",
       "      <th>count</th>\n",
       "    </tr>\n",
       "  </thead>\n",
       "  <tbody>\n",
       "    <tr>\n",
       "      <th>1292</th>\n",
       "      <td>uid</td>\n",
       "      <td>81</td>\n",
       "    </tr>\n",
       "    <tr>\n",
       "      <th>481</th>\n",
       "      <td>_ga</td>\n",
       "      <td>61</td>\n",
       "    </tr>\n",
       "    <tr>\n",
       "      <th>386</th>\n",
       "      <td>__qca</td>\n",
       "      <td>60</td>\n",
       "    </tr>\n",
       "    <tr>\n",
       "      <th>1279</th>\n",
       "      <td>u</td>\n",
       "      <td>51</td>\n",
       "    </tr>\n",
       "    <tr>\n",
       "      <th>1310</th>\n",
       "      <td>uuid</td>\n",
       "      <td>48</td>\n",
       "    </tr>\n",
       "  </tbody>\n",
       "</table>\n",
       "</div>"
      ],
      "text/plain": [
       "       name  count\n",
       "1292    uid     81\n",
       "481     _ga     61\n",
       "386   __qca     60\n",
       "1279      u     51\n",
       "1310   uuid     48"
      ]
     },
     "execution_count": 75,
     "metadata": {},
     "output_type": "execute_result"
    }
   ],
   "source": [
    "cookies = pd.read_sql_query('SELECT name, COUNT(*) as count FROM profile_cookies GROUP BY name;', con)\n",
    "cookies.sort_values(by='count', ascending=False, inplace=True)\n",
    "cookies.head()"
   ]
  },
  {
   "cell_type": "code",
   "execution_count": null,
   "metadata": {
    "collapsed": true
   },
   "outputs": [],
   "source": []
  },
  {
   "cell_type": "markdown",
   "metadata": {},
   "source": [
    "### Counting cookies by host"
   ]
  },
  {
   "cell_type": "code",
   "execution_count": 39,
   "metadata": {
    "collapsed": false
   },
   "outputs": [
    {
     "data": {
      "text/plain": [
       "(527, 3)"
      ]
     },
     "execution_count": 39,
     "metadata": {},
     "output_type": "execute_result"
    }
   ],
   "source": [
    "# Get number of different cookies\n",
    "_qry = 'SELECT host, COUNT(DISTINCT name) as count_dist, COUNT(name) as count FROM profile_cookies GROUP BY host;'\n",
    "host_cookies = pd.read_sql_query(_qry, con)\n",
    "\n",
    "host_cookies.shape"
   ]
  },
  {
   "cell_type": "code",
   "execution_count": 40,
   "metadata": {
    "collapsed": false
   },
   "outputs": [],
   "source": [
    "host_cookies.sort_values(by='count', ascending=False, inplace=True)"
   ]
  },
  {
   "cell_type": "code",
   "execution_count": 41,
   "metadata": {
    "collapsed": false
   },
   "outputs": [
    {
     "data": {
      "text/html": [
       "<div>\n",
       "<table border=\"1\" class=\"dataframe\">\n",
       "  <thead>\n",
       "    <tr style=\"text-align: right;\">\n",
       "      <th></th>\n",
       "      <th>host</th>\n",
       "      <th>count_dist</th>\n",
       "      <th>count</th>\n",
       "    </tr>\n",
       "  </thead>\n",
       "  <tbody>\n",
       "    <tr>\n",
       "      <th>272</th>\n",
       "      <td>.rubiconproject.com</td>\n",
       "      <td>71</td>\n",
       "      <td>900</td>\n",
       "    </tr>\n",
       "    <tr>\n",
       "      <th>255</th>\n",
       "      <td>.pubmatic.com</td>\n",
       "      <td>65</td>\n",
       "      <td>532</td>\n",
       "    </tr>\n",
       "    <tr>\n",
       "      <th>48</th>\n",
       "      <td>.advertising.com</td>\n",
       "      <td>9</td>\n",
       "      <td>156</td>\n",
       "    </tr>\n",
       "    <tr>\n",
       "      <th>415</th>\n",
       "      <td>engine.4dsply.com</td>\n",
       "      <td>24</td>\n",
       "      <td>120</td>\n",
       "    </tr>\n",
       "    <tr>\n",
       "      <th>438</th>\n",
       "      <td>pix.btrll.com</td>\n",
       "      <td>49</td>\n",
       "      <td>113</td>\n",
       "    </tr>\n",
       "  </tbody>\n",
       "</table>\n",
       "</div>"
      ],
      "text/plain": [
       "                    host  count_dist  count\n",
       "272  .rubiconproject.com          71    900\n",
       "255        .pubmatic.com          65    532\n",
       "48      .advertising.com           9    156\n",
       "415    engine.4dsply.com          24    120\n",
       "438        pix.btrll.com          49    113"
      ]
     },
     "execution_count": 41,
     "metadata": {},
     "output_type": "execute_result"
    }
   ],
   "source": [
    "host_cookies.head()"
   ]
  },
  {
   "cell_type": "code",
   "execution_count": null,
   "metadata": {
    "collapsed": true
   },
   "outputs": [],
   "source": []
  },
  {
   "cell_type": "markdown",
   "metadata": {},
   "source": [
    "### Counting cookies by page_url"
   ]
  },
  {
   "cell_type": "code",
   "execution_count": 42,
   "metadata": {
    "collapsed": false
   },
   "outputs": [
    {
     "data": {
      "text/plain": [
       "(527, 3)"
      ]
     },
     "execution_count": 42,
     "metadata": {},
     "output_type": "execute_result"
    }
   ],
   "source": [
    "# Get number of different cookies\n",
    "q = 'SELECT page_url,COUNT(DISTINCT name) AS count_dist,COUNT(name) AS count FROM profile_cookies GROUP BY page_url;'\n",
    "url_cookies = pd.read_sql_query(_qry, con)\n",
    "\n",
    "url_cookies.shape"
   ]
  },
  {
   "cell_type": "code",
   "execution_count": 43,
   "metadata": {
    "collapsed": false
   },
   "outputs": [],
   "source": [
    "url_cookies.sort_values(by='count_dist', ascending=False, inplace=True)"
   ]
  },
  {
   "cell_type": "code",
   "execution_count": 44,
   "metadata": {
    "collapsed": false
   },
   "outputs": [
    {
     "data": {
      "text/html": [
       "<div>\n",
       "<table border=\"1\" class=\"dataframe\">\n",
       "  <thead>\n",
       "    <tr style=\"text-align: right;\">\n",
       "      <th></th>\n",
       "      <th>host</th>\n",
       "      <th>count_dist</th>\n",
       "      <th>count</th>\n",
       "    </tr>\n",
       "  </thead>\n",
       "  <tbody>\n",
       "    <tr>\n",
       "      <th>272</th>\n",
       "      <td>.rubiconproject.com</td>\n",
       "      <td>71</td>\n",
       "      <td>900</td>\n",
       "    </tr>\n",
       "    <tr>\n",
       "      <th>255</th>\n",
       "      <td>.pubmatic.com</td>\n",
       "      <td>65</td>\n",
       "      <td>532</td>\n",
       "    </tr>\n",
       "    <tr>\n",
       "      <th>438</th>\n",
       "      <td>pix.btrll.com</td>\n",
       "      <td>49</td>\n",
       "      <td>113</td>\n",
       "    </tr>\n",
       "    <tr>\n",
       "      <th>269</th>\n",
       "      <td>.rlcdn.com</td>\n",
       "      <td>38</td>\n",
       "      <td>105</td>\n",
       "    </tr>\n",
       "    <tr>\n",
       "      <th>339</th>\n",
       "      <td>.wayfair.com</td>\n",
       "      <td>35</td>\n",
       "      <td>35</td>\n",
       "    </tr>\n",
       "  </tbody>\n",
       "</table>\n",
       "</div>"
      ],
      "text/plain": [
       "                    host  count_dist  count\n",
       "272  .rubiconproject.com          71    900\n",
       "255        .pubmatic.com          65    532\n",
       "438        pix.btrll.com          49    113\n",
       "269           .rlcdn.com          38    105\n",
       "339         .wayfair.com          35     35"
      ]
     },
     "execution_count": 44,
     "metadata": {},
     "output_type": "execute_result"
    }
   ],
   "source": [
    "url_cookies.head()"
   ]
  },
  {
   "cell_type": "code",
   "execution_count": null,
   "metadata": {
    "collapsed": true
   },
   "outputs": [],
   "source": []
  }
 ],
 "metadata": {
  "kernelspec": {
   "display_name": "Python 3",
   "language": "python",
   "name": "python3"
  },
  "language_info": {
   "codemirror_mode": {
    "name": "ipython",
    "version": 3
   },
   "file_extension": ".py",
   "mimetype": "text/x-python",
   "name": "python",
   "nbconvert_exporter": "python",
   "pygments_lexer": "ipython3",
   "version": "3.5.1"
  }
 },
 "nbformat": 4,
 "nbformat_minor": 0
}
